{
 "cells": [
  {
   "cell_type": "markdown",
   "id": "09f681f9-d547-4952-bc8d-521d411244a2",
   "metadata": {
    "tags": []
   },
   "source": [
    "# 6.1 Introduction to Classification Trees"
   ]
  },
  {
   "cell_type": "markdown",
   "id": "bc1775b1-2bfe-4d19-a5b6-73261184b2d7",
   "metadata": {},
   "source": [
    "# Classification Trees in Python"
   ]
  },
  {
   "cell_type": "code",
   "execution_count": 1,
   "id": "b77099c2-dd17-4e42-8ae1-7130c1990528",
   "metadata": {
    "tags": []
   },
   "outputs": [
    {
     "data": {
      "text/html": [
       "<div>\n",
       "<style scoped>\n",
       "    .dataframe tbody tr th:only-of-type {\n",
       "        vertical-align: middle;\n",
       "    }\n",
       "\n",
       "    .dataframe tbody tr th {\n",
       "        vertical-align: top;\n",
       "    }\n",
       "\n",
       "    .dataframe thead th {\n",
       "        text-align: right;\n",
       "    }\n",
       "</style>\n",
       "<table border=\"1\" class=\"dataframe\">\n",
       "  <thead>\n",
       "    <tr style=\"text-align: right;\">\n",
       "      <th></th>\n",
       "      <th>case id</th>\n",
       "      <th>hospital code</th>\n",
       "      <th>hospital type code</th>\n",
       "      <th>city code hospital</th>\n",
       "      <th>hospital region code</th>\n",
       "      <th>available extra rooms in hospital</th>\n",
       "      <th>department</th>\n",
       "      <th>ward type</th>\n",
       "      <th>ward facility code</th>\n",
       "      <th>bed grade</th>\n",
       "      <th>patientid</th>\n",
       "      <th>city code patient</th>\n",
       "      <th>type of admission</th>\n",
       "      <th>severity of illness</th>\n",
       "      <th>visitors with patient</th>\n",
       "      <th>age</th>\n",
       "      <th>admission deposit</th>\n",
       "      <th>health score</th>\n",
       "      <th>stay time</th>\n",
       "      <th>stay class</th>\n",
       "    </tr>\n",
       "  </thead>\n",
       "  <tbody>\n",
       "    <tr>\n",
       "      <th>0</th>\n",
       "      <td>90345</td>\n",
       "      <td>26</td>\n",
       "      <td>b</td>\n",
       "      <td>2</td>\n",
       "      <td>Y</td>\n",
       "      <td>3</td>\n",
       "      <td>gynecology</td>\n",
       "      <td>Q</td>\n",
       "      <td>D</td>\n",
       "      <td>3.0</td>\n",
       "      <td>231</td>\n",
       "      <td>1.0</td>\n",
       "      <td>trauma</td>\n",
       "      <td>moderate</td>\n",
       "      <td>12</td>\n",
       "      <td>56</td>\n",
       "      <td>3152</td>\n",
       "      <td>34</td>\n",
       "      <td>85.0</td>\n",
       "      <td>long</td>\n",
       "    </tr>\n",
       "    <tr>\n",
       "      <th>1</th>\n",
       "      <td>15477</td>\n",
       "      <td>29</td>\n",
       "      <td>a</td>\n",
       "      <td>4</td>\n",
       "      <td>X</td>\n",
       "      <td>4</td>\n",
       "      <td>gynecology</td>\n",
       "      <td>R</td>\n",
       "      <td>F</td>\n",
       "      <td>3.0</td>\n",
       "      <td>77514</td>\n",
       "      <td>8.0</td>\n",
       "      <td>trauma</td>\n",
       "      <td>moderate</td>\n",
       "      <td>2</td>\n",
       "      <td>37</td>\n",
       "      <td>5106</td>\n",
       "      <td>43</td>\n",
       "      <td>47.0</td>\n",
       "      <td>medium</td>\n",
       "    </tr>\n",
       "    <tr>\n",
       "      <th>2</th>\n",
       "      <td>52839</td>\n",
       "      <td>26</td>\n",
       "      <td>b</td>\n",
       "      <td>2</td>\n",
       "      <td>Y</td>\n",
       "      <td>6</td>\n",
       "      <td>gynecology</td>\n",
       "      <td>Q</td>\n",
       "      <td>D</td>\n",
       "      <td>3.0</td>\n",
       "      <td>60762</td>\n",
       "      <td>8.0</td>\n",
       "      <td>trauma</td>\n",
       "      <td>extreme</td>\n",
       "      <td>2</td>\n",
       "      <td>23</td>\n",
       "      <td>4819</td>\n",
       "      <td>60</td>\n",
       "      <td>17.0</td>\n",
       "      <td>short</td>\n",
       "    </tr>\n",
       "    <tr>\n",
       "      <th>3</th>\n",
       "      <td>17057</td>\n",
       "      <td>31</td>\n",
       "      <td>c</td>\n",
       "      <td>3</td>\n",
       "      <td>Z</td>\n",
       "      <td>3</td>\n",
       "      <td>radiotherapy</td>\n",
       "      <td>Q</td>\n",
       "      <td>A</td>\n",
       "      <td>2.0</td>\n",
       "      <td>14235</td>\n",
       "      <td>1.0</td>\n",
       "      <td>emergency</td>\n",
       "      <td>moderate</td>\n",
       "      <td>3</td>\n",
       "      <td>50</td>\n",
       "      <td>6590</td>\n",
       "      <td>55</td>\n",
       "      <td>36.0</td>\n",
       "      <td>medium</td>\n",
       "    </tr>\n",
       "    <tr>\n",
       "      <th>4</th>\n",
       "      <td>198733</td>\n",
       "      <td>22</td>\n",
       "      <td>g</td>\n",
       "      <td>9</td>\n",
       "      <td>Y</td>\n",
       "      <td>2</td>\n",
       "      <td>gynecology</td>\n",
       "      <td>S</td>\n",
       "      <td>B</td>\n",
       "      <td>2.0</td>\n",
       "      <td>103467</td>\n",
       "      <td>8.0</td>\n",
       "      <td>urgent</td>\n",
       "      <td>moderate</td>\n",
       "      <td>4</td>\n",
       "      <td>59</td>\n",
       "      <td>5485</td>\n",
       "      <td>43</td>\n",
       "      <td>76.0</td>\n",
       "      <td>long</td>\n",
       "    </tr>\n",
       "  </tbody>\n",
       "</table>\n",
       "</div>"
      ],
      "text/plain": [
       "   case id  hospital code hospital type code  city code hospital  \\\n",
       "0    90345             26                  b                   2   \n",
       "1    15477             29                  a                   4   \n",
       "2    52839             26                  b                   2   \n",
       "3    17057             31                  c                   3   \n",
       "4   198733             22                  g                   9   \n",
       "\n",
       "  hospital region code  available extra rooms in hospital    department  \\\n",
       "0                    Y                                  3    gynecology   \n",
       "1                    X                                  4    gynecology   \n",
       "2                    Y                                  6    gynecology   \n",
       "3                    Z                                  3  radiotherapy   \n",
       "4                    Y                                  2    gynecology   \n",
       "\n",
       "  ward type ward facility code  bed grade  patientid  city code patient  \\\n",
       "0         Q                  D        3.0        231                1.0   \n",
       "1         R                  F        3.0      77514                8.0   \n",
       "2         Q                  D        3.0      60762                8.0   \n",
       "3         Q                  A        2.0      14235                1.0   \n",
       "4         S                  B        2.0     103467                8.0   \n",
       "\n",
       "  type of admission severity of illness  visitors with patient  age  \\\n",
       "0            trauma            moderate                     12   56   \n",
       "1            trauma            moderate                      2   37   \n",
       "2            trauma             extreme                      2   23   \n",
       "3         emergency            moderate                      3   50   \n",
       "4            urgent            moderate                      4   59   \n",
       "\n",
       "   admission deposit  health score  stay time stay class  \n",
       "0               3152            34       85.0       long  \n",
       "1               5106            43       47.0     medium  \n",
       "2               4819            60       17.0      short  \n",
       "3               6590            55       36.0     medium  \n",
       "4               5485            43       76.0       long  "
      ]
     },
     "execution_count": 1,
     "metadata": {},
     "output_type": "execute_result"
    }
   ],
   "source": [
    "import pandas as pd\n",
    "import matplotlib.pyplot as plt\n",
    "import numpy as np\n",
    "import seaborn as sns\n",
    "pd.set_option('display.max_columns', None)\n",
    "import random\n",
    "from sklearn.model_selection import train_test_split\n",
    "from sklearn.metrics import r2_score, mean_squared_error\n",
    "from sklearn.inspection import permutation_importance\n",
    "from sklearn.metrics import classification_report, confusion_matrix, roc_curve, RocCurveDisplay, auc, r2_score, ConfusionMatrixDisplay, accuracy_score\n",
    "from sklearn.inspection import permutation_importance\n",
    "from sklearn import tree\n",
    "\n",
    "from pydotplus import graph_from_dot_data\n",
    "\n",
    "# Generate a unique color\n",
    "def generate_unique_color():\n",
    "    color = \"#\" + ''.join([random.choice('0123456789ABCDEF') for _ in range(6)])\n",
    "    return color\n",
    "\n",
    "df = pd.read_csv('healthcare_analytics.csv')\n",
    "df.head()"
   ]
  },
  {
   "cell_type": "markdown",
   "id": "a9cd85b6-2ede-472e-adef-189a8cb6ca9e",
   "metadata": {},
   "source": [
    "# **Preprocessing**"
   ]
  },
  {
   "cell_type": "markdown",
   "id": "5b20c0d9-bf76-4012-9af0-91bcd3d52451",
   "metadata": {},
   "source": [
    "- ## Missing Data Handling"
   ]
  },
  {
   "cell_type": "code",
   "execution_count": 2,
   "id": "81bd20ab-e74d-42b3-b591-fecfeb4af341",
   "metadata": {
    "tags": []
   },
   "outputs": [
    {
     "data": {
      "text/plain": [
       "case id                                 0\n",
       "hospital code                           0\n",
       "hospital type code                      0\n",
       "city code hospital                      0\n",
       "hospital region code                    0\n",
       "available extra rooms in hospital       0\n",
       "department                              0\n",
       "ward type                               0\n",
       "ward facility code                      0\n",
       "bed grade                             113\n",
       "patientid                               0\n",
       "city code patient                    4532\n",
       "type of admission                       0\n",
       "severity of illness                     0\n",
       "visitors with patient                   0\n",
       "age                                     0\n",
       "admission deposit                       0\n",
       "health score                            0\n",
       "stay time                               0\n",
       "stay class                              0\n",
       "dtype: int64"
      ]
     },
     "execution_count": 2,
     "metadata": {},
     "output_type": "execute_result"
    }
   ],
   "source": [
    "df.isna().sum(axis=0)"
   ]
  },
  {
   "cell_type": "code",
   "execution_count": 3,
   "id": "86a563b1-f135-4fa8-ba59-a1f35a38a091",
   "metadata": {
    "tags": []
   },
   "outputs": [],
   "source": [
    "df = df.dropna()"
   ]
  },
  {
   "cell_type": "markdown",
   "id": "3e689e4d-9b3c-46bb-b185-e3f5d7f4ee83",
   "metadata": {},
   "source": [
    "- ## Outlier Detection"
   ]
  },
  {
   "cell_type": "code",
   "execution_count": 4,
   "id": "98558042-f23e-4e4c-afee-a48a50557561",
   "metadata": {
    "tags": []
   },
   "outputs": [
    {
     "data": {
      "image/png": "[encoded data removed]",
      "text/plain": [
       "<Figure size 511.111x500 with 1 Axes>"
      ]
     },
     "metadata": {},
     "output_type": "display_data"
    }
   ],
   "source": [
    "sns.catplot(data=df, x='admission deposit', kind='box')\n",
    "plt.show()"
   ]
  },
  {
   "cell_type": "code",
   "execution_count": 5,
   "id": "5532b9bc-6717-4fb6-97a0-6df7cdfa2387",
   "metadata": {
    "tags": []
   },
   "outputs": [
    {
     "name": "stdout",
     "output_type": "stream",
     "text": [
      "(313793, 20)\n",
      "(300648, 20)\n"
     ]
    }
   ],
   "source": [
    "df_clean = df.copy()\n",
    "var_list = ['age', 'admission deposit', 'health score']\n",
    "\n",
    "for var in var_list:\n",
    "    iqr = df_clean[var].quantile(0.75) - df_clean[var].quantile(0.25)\n",
    "    if not np.isnan(iqr):\n",
    "        ub = df_clean[var].quantile(0.75) + 1.5 * iqr\n",
    "        lb = df_clean[var].quantile(0.25) - 1.5 * iqr\n",
    "        df_clean = df_clean[(df_clean[var] >= lb) & (df_clean[var] <= ub)]\n",
    "\n",
    "print(df.shape)        \n",
    "print(df_clean.shape)"
   ]
  },
  {
   "cell_type": "markdown",
   "id": "17cd6529-e64c-421c-8346-30913c83e300",
   "metadata": {
    "tags": []
   },
   "source": [
    "- ## Dummy Encoding"
   ]
  },
  {
   "cell_type": "code",
   "execution_count": 6,
   "id": "19ddca76-732f-4789-9bd8-f412f6f58ae2",
   "metadata": {
    "tags": []
   },
   "outputs": [
    {
     "data": {
      "text/html": [
       "<div>\n",
       "<style scoped>\n",
       "    .dataframe tbody tr th:only-of-type {\n",
       "        vertical-align: middle;\n",
       "    }\n",
       "\n",
       "    .dataframe tbody tr th {\n",
       "        vertical-align: top;\n",
       "    }\n",
       "\n",
       "    .dataframe thead th {\n",
       "        text-align: right;\n",
       "    }\n",
       "</style>\n",
       "<table border=\"1\" class=\"dataframe\">\n",
       "  <thead>\n",
       "    <tr style=\"text-align: right;\">\n",
       "      <th></th>\n",
       "      <th>case id</th>\n",
       "      <th>hospital code</th>\n",
       "      <th>city code hospital</th>\n",
       "      <th>available extra rooms in hospital</th>\n",
       "      <th>bed grade</th>\n",
       "      <th>patientid</th>\n",
       "      <th>city code patient</th>\n",
       "      <th>visitors with patient</th>\n",
       "      <th>age</th>\n",
       "      <th>admission deposit</th>\n",
       "      <th>health score</th>\n",
       "      <th>stay time</th>\n",
       "      <th>stay class</th>\n",
       "      <th>hospital type code b</th>\n",
       "      <th>hospital type code c</th>\n",
       "      <th>hospital type code d</th>\n",
       "      <th>hospital type code e</th>\n",
       "      <th>hospital type code f</th>\n",
       "      <th>hospital type code g</th>\n",
       "      <th>hospital region code Y</th>\n",
       "      <th>hospital region code Z</th>\n",
       "      <th>department gynecology</th>\n",
       "      <th>department radiotherapy</th>\n",
       "      <th>department surgery</th>\n",
       "      <th>department tb chest disease</th>\n",
       "      <th>ward type Q</th>\n",
       "      <th>ward type R</th>\n",
       "      <th>ward type S</th>\n",
       "      <th>ward type T</th>\n",
       "      <th>ward type U</th>\n",
       "      <th>ward facility code B</th>\n",
       "      <th>ward facility code C</th>\n",
       "      <th>ward facility code D</th>\n",
       "      <th>ward facility code E</th>\n",
       "      <th>ward facility code F</th>\n",
       "      <th>type of admission trauma</th>\n",
       "      <th>type of admission urgent</th>\n",
       "      <th>severity of illness minor</th>\n",
       "      <th>severity of illness moderate</th>\n",
       "    </tr>\n",
       "  </thead>\n",
       "  <tbody>\n",
       "    <tr>\n",
       "      <th>0</th>\n",
       "      <td>90345</td>\n",
       "      <td>26</td>\n",
       "      <td>2</td>\n",
       "      <td>3</td>\n",
       "      <td>3.0</td>\n",
       "      <td>231</td>\n",
       "      <td>1.0</td>\n",
       "      <td>12</td>\n",
       "      <td>56</td>\n",
       "      <td>3152</td>\n",
       "      <td>34</td>\n",
       "      <td>85.0</td>\n",
       "      <td>long</td>\n",
       "      <td>1</td>\n",
       "      <td>0</td>\n",
       "      <td>0</td>\n",
       "      <td>0</td>\n",
       "      <td>0</td>\n",
       "      <td>0</td>\n",
       "      <td>1</td>\n",
       "      <td>0</td>\n",
       "      <td>1</td>\n",
       "      <td>0</td>\n",
       "      <td>0</td>\n",
       "      <td>0</td>\n",
       "      <td>1</td>\n",
       "      <td>0</td>\n",
       "      <td>0</td>\n",
       "      <td>0</td>\n",
       "      <td>0</td>\n",
       "      <td>0</td>\n",
       "      <td>0</td>\n",
       "      <td>1</td>\n",
       "      <td>0</td>\n",
       "      <td>0</td>\n",
       "      <td>1</td>\n",
       "      <td>0</td>\n",
       "      <td>0</td>\n",
       "      <td>1</td>\n",
       "    </tr>\n",
       "    <tr>\n",
       "      <th>1</th>\n",
       "      <td>15477</td>\n",
       "      <td>29</td>\n",
       "      <td>4</td>\n",
       "      <td>4</td>\n",
       "      <td>3.0</td>\n",
       "      <td>77514</td>\n",
       "      <td>8.0</td>\n",
       "      <td>2</td>\n",
       "      <td>37</td>\n",
       "      <td>5106</td>\n",
       "      <td>43</td>\n",
       "      <td>47.0</td>\n",
       "      <td>medium</td>\n",
       "      <td>0</td>\n",
       "      <td>0</td>\n",
       "      <td>0</td>\n",
       "      <td>0</td>\n",
       "      <td>0</td>\n",
       "      <td>0</td>\n",
       "      <td>0</td>\n",
       "      <td>0</td>\n",
       "      <td>1</td>\n",
       "      <td>0</td>\n",
       "      <td>0</td>\n",
       "      <td>0</td>\n",
       "      <td>0</td>\n",
       "      <td>1</td>\n",
       "      <td>0</td>\n",
       "      <td>0</td>\n",
       "      <td>0</td>\n",
       "      <td>0</td>\n",
       "      <td>0</td>\n",
       "      <td>0</td>\n",
       "      <td>0</td>\n",
       "      <td>1</td>\n",
       "      <td>1</td>\n",
       "      <td>0</td>\n",
       "      <td>0</td>\n",
       "      <td>1</td>\n",
       "    </tr>\n",
       "    <tr>\n",
       "      <th>2</th>\n",
       "      <td>52839</td>\n",
       "      <td>26</td>\n",
       "      <td>2</td>\n",
       "      <td>6</td>\n",
       "      <td>3.0</td>\n",
       "      <td>60762</td>\n",
       "      <td>8.0</td>\n",
       "      <td>2</td>\n",
       "      <td>23</td>\n",
       "      <td>4819</td>\n",
       "      <td>60</td>\n",
       "      <td>17.0</td>\n",
       "      <td>short</td>\n",
       "      <td>1</td>\n",
       "      <td>0</td>\n",
       "      <td>0</td>\n",
       "      <td>0</td>\n",
       "      <td>0</td>\n",
       "      <td>0</td>\n",
       "      <td>1</td>\n",
       "      <td>0</td>\n",
       "      <td>1</td>\n",
       "      <td>0</td>\n",
       "      <td>0</td>\n",
       "      <td>0</td>\n",
       "      <td>1</td>\n",
       "      <td>0</td>\n",
       "      <td>0</td>\n",
       "      <td>0</td>\n",
       "      <td>0</td>\n",
       "      <td>0</td>\n",
       "      <td>0</td>\n",
       "      <td>1</td>\n",
       "      <td>0</td>\n",
       "      <td>0</td>\n",
       "      <td>1</td>\n",
       "      <td>0</td>\n",
       "      <td>0</td>\n",
       "      <td>0</td>\n",
       "    </tr>\n",
       "    <tr>\n",
       "      <th>3</th>\n",
       "      <td>17057</td>\n",
       "      <td>31</td>\n",
       "      <td>3</td>\n",
       "      <td>3</td>\n",
       "      <td>2.0</td>\n",
       "      <td>14235</td>\n",
       "      <td>1.0</td>\n",
       "      <td>3</td>\n",
       "      <td>50</td>\n",
       "      <td>6590</td>\n",
       "      <td>55</td>\n",
       "      <td>36.0</td>\n",
       "      <td>medium</td>\n",
       "      <td>0</td>\n",
       "      <td>1</td>\n",
       "      <td>0</td>\n",
       "      <td>0</td>\n",
       "      <td>0</td>\n",
       "      <td>0</td>\n",
       "      <td>0</td>\n",
       "      <td>1</td>\n",
       "      <td>0</td>\n",
       "      <td>1</td>\n",
       "      <td>0</td>\n",
       "      <td>0</td>\n",
       "      <td>1</td>\n",
       "      <td>0</td>\n",
       "      <td>0</td>\n",
       "      <td>0</td>\n",
       "      <td>0</td>\n",
       "      <td>0</td>\n",
       "      <td>0</td>\n",
       "      <td>0</td>\n",
       "      <td>0</td>\n",
       "      <td>0</td>\n",
       "      <td>0</td>\n",
       "      <td>0</td>\n",
       "      <td>0</td>\n",
       "      <td>1</td>\n",
       "    </tr>\n",
       "    <tr>\n",
       "      <th>4</th>\n",
       "      <td>198733</td>\n",
       "      <td>22</td>\n",
       "      <td>9</td>\n",
       "      <td>2</td>\n",
       "      <td>2.0</td>\n",
       "      <td>103467</td>\n",
       "      <td>8.0</td>\n",
       "      <td>4</td>\n",
       "      <td>59</td>\n",
       "      <td>5485</td>\n",
       "      <td>43</td>\n",
       "      <td>76.0</td>\n",
       "      <td>long</td>\n",
       "      <td>0</td>\n",
       "      <td>0</td>\n",
       "      <td>0</td>\n",
       "      <td>0</td>\n",
       "      <td>0</td>\n",
       "      <td>1</td>\n",
       "      <td>1</td>\n",
       "      <td>0</td>\n",
       "      <td>1</td>\n",
       "      <td>0</td>\n",
       "      <td>0</td>\n",
       "      <td>0</td>\n",
       "      <td>0</td>\n",
       "      <td>0</td>\n",
       "      <td>1</td>\n",
       "      <td>0</td>\n",
       "      <td>0</td>\n",
       "      <td>1</td>\n",
       "      <td>0</td>\n",
       "      <td>0</td>\n",
       "      <td>0</td>\n",
       "      <td>0</td>\n",
       "      <td>0</td>\n",
       "      <td>1</td>\n",
       "      <td>0</td>\n",
       "      <td>1</td>\n",
       "    </tr>\n",
       "  </tbody>\n",
       "</table>\n",
       "</div>"
      ],
      "text/plain": [
       "   case id  hospital code  city code hospital  \\\n",
       "0    90345             26                   2   \n",
       "1    15477             29                   4   \n",
       "2    52839             26                   2   \n",
       "3    17057             31                   3   \n",
       "4   198733             22                   9   \n",
       "\n",
       "   available extra rooms in hospital  bed grade  patientid  city code patient  \\\n",
       "0                                  3        3.0        231                1.0   \n",
       "1                                  4        3.0      77514                8.0   \n",
       "2                                  6        3.0      60762                8.0   \n",
       "3                                  3        2.0      14235                1.0   \n",
       "4                                  2        2.0     103467                8.0   \n",
       "\n",
       "   visitors with patient  age  admission deposit  health score  stay time  \\\n",
       "0                     12   56               3152            34       85.0   \n",
       "1                      2   37               5106            43       47.0   \n",
       "2                      2   23               4819            60       17.0   \n",
       "3                      3   50               6590            55       36.0   \n",
       "4                      4   59               5485            43       76.0   \n",
       "\n",
       "  stay class  hospital type code b  hospital type code c  \\\n",
       "0       long                     1                     0   \n",
       "1     medium                     0                     0   \n",
       "2      short                     1                     0   \n",
       "3     medium                     0                     1   \n",
       "4       long                     0                     0   \n",
       "\n",
       "   hospital type code d  hospital type code e  hospital type code f  \\\n",
       "0                     0                     0                     0   \n",
       "1                     0                     0                     0   \n",
       "2                     0                     0                     0   \n",
       "3                     0                     0                     0   \n",
       "4                     0                     0                     0   \n",
       "\n",
       "   hospital type code g  hospital region code Y  hospital region code Z  \\\n",
       "0                     0                       1                       0   \n",
       "1                     0                       0                       0   \n",
       "2                     0                       1                       0   \n",
       "3                     0                       0                       1   \n",
       "4                     1                       1                       0   \n",
       "\n",
       "   department gynecology  department radiotherapy  department surgery  \\\n",
       "0                      1                        0                   0   \n",
       "1                      1                        0                   0   \n",
       "2                      1                        0                   0   \n",
       "3                      0                        1                   0   \n",
       "4                      1                        0                   0   \n",
       "\n",
       "   department tb chest disease  ward type Q  ward type R  ward type S  \\\n",
       "0                            0            1            0            0   \n",
       "1                            0            0            1            0   \n",
       "2                            0            1            0            0   \n",
       "3                            0            1            0            0   \n",
       "4                            0            0            0            1   \n",
       "\n",
       "   ward type T  ward type U  ward facility code B  ward facility code C  \\\n",
       "0            0            0                     0                     0   \n",
       "1            0            0                     0                     0   \n",
       "2            0            0                     0                     0   \n",
       "3            0            0                     0                     0   \n",
       "4            0            0                     1                     0   \n",
       "\n",
       "   ward facility code D  ward facility code E  ward facility code F  \\\n",
       "0                     1                     0                     0   \n",
       "1                     0                     0                     1   \n",
       "2                     1                     0                     0   \n",
       "3                     0                     0                     0   \n",
       "4                     0                     0                     0   \n",
       "\n",
       "   type of admission trauma  type of admission urgent  \\\n",
       "0                         1                         0   \n",
       "1                         1                         0   \n",
       "2                         1                         0   \n",
       "3                         0                         0   \n",
       "4                         0                         1   \n",
       "\n",
       "   severity of illness minor  severity of illness moderate  \n",
       "0                          0                             1  \n",
       "1                          0                             1  \n",
       "2                          0                             0  \n",
       "3                          0                             1  \n",
       "4                          0                             1  "
      ]
     },
     "execution_count": 6,
     "metadata": {},
     "output_type": "execute_result"
    }
   ],
   "source": [
    "cats = ['hospital type code', 'hospital region code', 'department', 'ward type', 'ward facility code', 'type of admission', 'severity of illness']\n",
    "df1 = pd.get_dummies(df_clean, columns=cats, prefix_sep=' ', drop_first=True)\n",
    "df1.head()"
   ]
  },
  {
   "cell_type": "code",
   "execution_count": 7,
   "id": "150320b9-35f5-409a-b649-7c7e3a0dc2d1",
   "metadata": {
    "tags": []
   },
   "outputs": [
    {
     "data": {
      "text/plain": [
       "Index(['case id', 'hospital code', 'city code hospital',\n",
       "       'available extra rooms in hospital', 'bed grade', 'patientid',\n",
       "       'city code patient', 'visitors with patient', 'age',\n",
       "       'admission deposit', 'health score', 'stay time', 'stay class',\n",
       "       'hospital type code b', 'hospital type code c', 'hospital type code d',\n",
       "       'hospital type code e', 'hospital type code f', 'hospital type code g',\n",
       "       'hospital region code Y', 'hospital region code Z',\n",
       "       'department gynecology', 'department radiotherapy',\n",
       "       'department surgery', 'department tb chest disease', 'ward type Q',\n",
       "       'ward type R', 'ward type S', 'ward type T', 'ward type U',\n",
       "       'ward facility code B', 'ward facility code C', 'ward facility code D',\n",
       "       'ward facility code E', 'ward facility code F',\n",
       "       'type of admission trauma', 'type of admission urgent',\n",
       "       'severity of illness minor', 'severity of illness moderate'],\n",
       "      dtype='object')"
      ]
     },
     "execution_count": 7,
     "metadata": {},
     "output_type": "execute_result"
    }
   ],
   "source": [
    "df1.columns"
   ]
  },
  {
   "cell_type": "markdown",
   "id": "1ed8a545-e0f8-4802-ad90-19846f993817",
   "metadata": {},
   "source": [
    "- ## Partitioning"
   ]
  },
  {
   "cell_type": "code",
   "execution_count": 8,
   "id": "78821bc3-91b9-4a7a-aee8-edd26c21650f",
   "metadata": {
    "tags": []
   },
   "outputs": [],
   "source": [
    "var_list = ['available extra rooms in hospital', 'bed grade', 'visitors with patient', 'age',\n",
    "               'admission deposit', 'health score', 'hospital type code b', 'hospital type code c', 'hospital type code d',\n",
    "               'hospital type code e', 'hospital type code f', 'hospital type code g',\n",
    "               'hospital region code Y', 'hospital region code Z',\n",
    "               'department gynecology', 'department radiotherapy',\n",
    "               'department surgery', 'department tb chest disease', 'ward type Q',\n",
    "               'ward type R', 'ward type S', 'ward type T', 'ward type U',\n",
    "               'ward facility code B', 'ward facility code C', 'ward facility code D',\n",
    "               'ward facility code E', 'ward facility code F',\n",
    "               'type of admission trauma', 'type of admission urgent',\n",
    "               'severity of illness minor', 'severity of illness moderate']\n",
    "\n",
    "X = df1[var_list]\n",
    "y = df1['stay class']"
   ]
  },
  {
   "cell_type": "code",
   "execution_count": 9,
   "id": "370e9c1f-eec4-4eb4-8e03-9ac8a860c58d",
   "metadata": {
    "tags": []
   },
   "outputs": [],
   "source": [
    "X_train, X_test, y_train, y_test = train_test_split(X, y, test_size=0.2)"
   ]
  },
  {
   "cell_type": "markdown",
   "id": "5634a504-5e72-4237-891e-34cec90e810c",
   "metadata": {},
   "source": [
    "# **Modeling**"
   ]
  },
  {
   "cell_type": "markdown",
   "id": "6dada3bd-2546-4725-8423-2c40464db051",
   "metadata": {},
   "source": [
    "- ## Training a Classification Tree\n",
    "(Pruning the Tree) "
   ]
  },
  {
   "cell_type": "code",
   "execution_count": 10,
   "id": "a15b03fa-95a7-4225-b23f-6ea8689637c7",
   "metadata": {
    "tags": []
   },
   "outputs": [
    {
     "name": "stdout",
     "output_type": "stream",
     "text": [
      "train accuracy: 72.20%\n"
     ]
    }
   ],
   "source": [
    "# ways of pruning classification tree: dec_tree = tree.DecisionTreeClassifier(min_samples_split=5000, max_leaf_nodes=10, ccp_alpha=0.005) can be used to set restrictions on the splits of the data\n",
    "dec_tree = tree.DecisionTreeClassifier(ccp_alpha=0.005, class_weight='balanced') # class_weight = 'balanced' - balances out each class\n",
    "dec_tree.fit(X_train, y_train)\n",
    "\n",
    "# Predict\n",
    "y_train_hat = dec_tree.predict(X_train)\n",
    "\n",
    "print('train accuracy:', \"{:.2f}%\".format(accuracy_score(y_train, y_train_hat)*100))"
   ]
  },
  {
   "cell_type": "code",
   "execution_count": 11,
   "id": "9ad13f65-1afd-475f-9b81-d64a5d828ecb",
   "metadata": {
    "tags": []
   },
   "outputs": [
    {
     "data": {
      "image/png": "[encoded data removed]",
      "text/plain": [
       "<Figure size 640x480 with 2 Axes>"
      ]
     },
     "metadata": {},
     "output_type": "display_data"
    }
   ],
   "source": [
    "ConfusionMatrixDisplay.from_estimator(dec_tree, X_train, y_train, cmap=plt.cm.Reds)\n",
    "plt.show()"
   ]
  },
  {
   "cell_type": "code",
   "execution_count": 12,
   "id": "e58962fb-6a1d-43d4-be3c-fae1fa1e8109",
   "metadata": {
    "tags": []
   },
   "outputs": [
    {
     "name": "stdout",
     "output_type": "stream",
     "text": [
      "              precision    recall  f1-score   support\n",
      "\n",
      "        long       0.53      0.93      0.67     17948\n",
      "      medium       0.83      0.68      0.75    144771\n",
      "       short       0.65      0.75      0.70     77799\n",
      "\n",
      "    accuracy                           0.72    240518\n",
      "   macro avg       0.67      0.79      0.71    240518\n",
      "weighted avg       0.75      0.72      0.73    240518\n",
      "\n"
     ]
    }
   ],
   "source": [
    "print(classification_report(y_train, y_train_hat))"
   ]
  },
  {
   "cell_type": "code",
   "execution_count": 13,
   "id": "294205b5-e441-4adf-b25e-9b752b1f9997",
   "metadata": {
    "tags": []
   },
   "outputs": [
    {
     "data": {
      "text/plain": [
       "stay class\n",
       "long       22452\n",
       "medium    180991\n",
       "short      97205\n",
       "dtype: int64"
      ]
     },
     "execution_count": 13,
     "metadata": {},
     "output_type": "execute_result"
    }
   ],
   "source": [
    "df1.groupby(by=['stay class']).size()"
   ]
  },
  {
   "cell_type": "markdown",
   "id": "79e2a96f-b8d2-465a-8c55-92d3d15e1fb9",
   "metadata": {},
   "source": [
    "- ## Visualize the Tree"
   ]
  },
  {
   "cell_type": "code",
   "execution_count": 14,
   "id": "bc5afc44-5544-45b5-b649-ee70ef6bb874",
   "metadata": {
    "tags": []
   },
   "outputs": [
    {
     "name": "stdout",
     "output_type": "stream",
     "text": [
      "|--- age <= 50.50\n",
      "|   |--- health score <= 46.50\n",
      "|   |   |--- age <= 45.50\n",
      "|   |   |   |--- class: medium\n",
      "|   |   |--- age >  45.50\n",
      "|   |   |   |--- class: medium\n",
      "|   |--- health score >  46.50\n",
      "|   |   |--- age <= 41.50\n",
      "|   |   |   |--- class: short\n",
      "|   |   |--- age >  41.50\n",
      "|   |   |   |--- class: medium\n",
      "|--- age >  50.50\n",
      "|   |--- health score <= 44.50\n",
      "|   |   |--- visitors with patient <= 3.50\n",
      "|   |   |   |--- class: long\n",
      "|   |   |--- visitors with patient >  3.50\n",
      "|   |   |   |--- class: long\n",
      "|   |--- health score >  44.50\n",
      "|   |   |--- class: medium\n",
      "\n"
     ]
    }
   ],
   "source": [
    "text_representation = tree.export_text(dec_tree, feature_names=var_list)\n",
    "print(text_representation)"
   ]
  },
  {
   "cell_type": "code",
   "execution_count": 15,
   "id": "21506c33-b79f-4c42-a545-b8681fbc0fa4",
   "metadata": {
    "tags": []
   },
   "outputs": [
    {
     "ename": "InvocationException",
     "evalue": "Program terminated with status: 1. stderr follows: Warning: Could not load \"C:\\Users\\Chaye\\anaconda3\\Library\\bin\\gvplugin_pango.dll\" - It was found, so perhaps one of its dependents was not.  Try ldd.\r\nWarning: Could not load \"C:\\Users\\Chaye\\anaconda3\\Library\\bin\\gvplugin_pango.dll\" - It was found, so perhaps one of its dependents was not.  Try ldd.\r\nFormat: \"pdf\" not recognized. Use one of: bmp canon cmap cmapx cmapx_np dot dot_json emf emfplus eps fig gd gd2 gif gv imap imap_np ismap jpe jpeg jpg json json0 metafile mp pdf pic plain plain-ext png pov ps ps2 svg svg_inline svgz tif tiff tk vrml webp xdot xdot1.2 xdot1.4 xdot_json\r\n",
     "output_type": "error",
     "traceback": [
      "\u001b[1;31m---------------------------------------------------------------------------\u001b[0m",
      "\u001b[1;31mInvocationException\u001b[0m                       Traceback (most recent call last)",
      "Cell \u001b[1;32mIn[15], line 3\u001b[0m\n\u001b[0;32m      1\u001b[0m dot_data \u001b[38;5;241m=\u001b[39m tree\u001b[38;5;241m.\u001b[39mexport_graphviz(dec_tree, feature_names\u001b[38;5;241m=\u001b[39mvar_list, class_names\u001b[38;5;241m=\u001b[39m[\u001b[38;5;124m'\u001b[39m\u001b[38;5;124mlong\u001b[39m\u001b[38;5;124m'\u001b[39m, \u001b[38;5;124m'\u001b[39m\u001b[38;5;124mmedium\u001b[39m\u001b[38;5;124m'\u001b[39m, \u001b[38;5;124m'\u001b[39m\u001b[38;5;124mshort\u001b[39m\u001b[38;5;124m'\u001b[39m], rounded\u001b[38;5;241m=\u001b[39m\u001b[38;5;28;01mTrue\u001b[39;00m, filled\u001b[38;5;241m=\u001b[39m\u001b[38;5;28;01mTrue\u001b[39;00m)\n\u001b[0;32m      2\u001b[0m graph \u001b[38;5;241m=\u001b[39m graph_from_dot_data(dot_data)\n\u001b[1;32m----> 3\u001b[0m \u001b[43mgraph\u001b[49m\u001b[38;5;241;43m.\u001b[39;49m\u001b[43mwrite_pdf\u001b[49m\u001b[43m(\u001b[49m\u001b[38;5;124;43m'\u001b[39;49m\u001b[38;5;124;43mtree.pdf\u001b[39;49m\u001b[38;5;124;43m'\u001b[39;49m\u001b[43m)\u001b[49m\n",
      "File \u001b[1;32m~\\anaconda3\\lib\\site-packages\\pydotplus\\graphviz.py:1804\u001b[0m, in \u001b[0;36mDot.__init__.<locals>.<lambda>\u001b[1;34m(path, f, prog)\u001b[0m\n\u001b[0;32m   1794\u001b[0m     f\u001b[38;5;241m.\u001b[39m\u001b[38;5;18m__doc__\u001b[39m \u001b[38;5;241m=\u001b[39m (\n\u001b[0;32m   1795\u001b[0m \u001b[38;5;250m        \u001b[39m\u001b[38;5;124;03m'''Refer to the docstring accompanying the'''\u001b[39;00m\n\u001b[0;32m   1796\u001b[0m \u001b[38;5;250m        \u001b[39m\u001b[38;5;124;03m''''create' method for more information.'''\u001b[39;00m\n\u001b[0;32m   1797\u001b[0m     )\n\u001b[0;32m   1799\u001b[0m \u001b[38;5;28;01mfor\u001b[39;00m frmt \u001b[38;5;129;01min\u001b[39;00m \u001b[38;5;28mself\u001b[39m\u001b[38;5;241m.\u001b[39mformats \u001b[38;5;241m+\u001b[39m [\u001b[38;5;124m'\u001b[39m\u001b[38;5;124mraw\u001b[39m\u001b[38;5;124m'\u001b[39m]:\n\u001b[0;32m   1800\u001b[0m     \u001b[38;5;28mself\u001b[39m\u001b[38;5;241m.\u001b[39m\u001b[38;5;21m__setattr__\u001b[39m(\n\u001b[0;32m   1801\u001b[0m         \u001b[38;5;124m'\u001b[39m\u001b[38;5;124mwrite_\u001b[39m\u001b[38;5;124m'\u001b[39m \u001b[38;5;241m+\u001b[39m frmt,\n\u001b[0;32m   1802\u001b[0m         \u001b[38;5;28;01mlambda\u001b[39;00m path,\n\u001b[0;32m   1803\u001b[0m         f\u001b[38;5;241m=\u001b[39mfrmt,\n\u001b[1;32m-> 1804\u001b[0m         prog\u001b[38;5;241m=\u001b[39m\u001b[38;5;28mself\u001b[39m\u001b[38;5;241m.\u001b[39mprog: \u001b[38;5;28;43mself\u001b[39;49m\u001b[38;5;241;43m.\u001b[39;49m\u001b[43mwrite\u001b[49m\u001b[43m(\u001b[49m\u001b[43mpath\u001b[49m\u001b[43m,\u001b[49m\u001b[43m \u001b[49m\u001b[38;5;28;43mformat\u001b[39;49m\u001b[38;5;241;43m=\u001b[39;49m\u001b[43mf\u001b[49m\u001b[43m,\u001b[49m\u001b[43m \u001b[49m\u001b[43mprog\u001b[49m\u001b[38;5;241;43m=\u001b[39;49m\u001b[43mprog\u001b[49m\u001b[43m)\u001b[49m\n\u001b[0;32m   1805\u001b[0m     )\n\u001b[0;32m   1807\u001b[0m     f \u001b[38;5;241m=\u001b[39m \u001b[38;5;28mself\u001b[39m\u001b[38;5;241m.\u001b[39m\u001b[38;5;18m__dict__\u001b[39m[\u001b[38;5;124m'\u001b[39m\u001b[38;5;124mwrite_\u001b[39m\u001b[38;5;124m'\u001b[39m \u001b[38;5;241m+\u001b[39m frmt]\n\u001b[0;32m   1808\u001b[0m     f\u001b[38;5;241m.\u001b[39m\u001b[38;5;18m__doc__\u001b[39m \u001b[38;5;241m=\u001b[39m (\n\u001b[0;32m   1809\u001b[0m \u001b[38;5;250m        \u001b[39m\u001b[38;5;124;03m'''Refer to the docstring accompanying the'''\u001b[39;00m\n\u001b[0;32m   1810\u001b[0m \u001b[38;5;250m        \u001b[39m\u001b[38;5;124;03m''''write' method for more information.'''\u001b[39;00m\n\u001b[0;32m   1811\u001b[0m     )\n",
      "File \u001b[1;32m~\\anaconda3\\lib\\site-packages\\pydotplus\\graphviz.py:1912\u001b[0m, in \u001b[0;36mDot.write\u001b[1;34m(self, path, prog, format)\u001b[0m\n\u001b[0;32m   1909\u001b[0m         fobj\u001b[38;5;241m.\u001b[39mwrite(data)\n\u001b[0;32m   1911\u001b[0m     \u001b[38;5;28;01melse\u001b[39;00m:\n\u001b[1;32m-> 1912\u001b[0m         fobj\u001b[38;5;241m.\u001b[39mwrite(\u001b[38;5;28;43mself\u001b[39;49m\u001b[38;5;241;43m.\u001b[39;49m\u001b[43mcreate\u001b[49m\u001b[43m(\u001b[49m\u001b[43mprog\u001b[49m\u001b[43m,\u001b[49m\u001b[43m \u001b[49m\u001b[38;5;28;43mformat\u001b[39;49m\u001b[43m)\u001b[49m)\n\u001b[0;32m   1913\u001b[0m \u001b[38;5;28;01mfinally\u001b[39;00m:\n\u001b[0;32m   1914\u001b[0m     \u001b[38;5;28;01mif\u001b[39;00m close:\n",
      "File \u001b[1;32m~\\anaconda3\\lib\\site-packages\\pydotplus\\graphviz.py:2024\u001b[0m, in \u001b[0;36mDot.create\u001b[1;34m(self, prog, format)\u001b[0m\n\u001b[0;32m   2021\u001b[0m status \u001b[38;5;241m=\u001b[39m p\u001b[38;5;241m.\u001b[39mwait()\n\u001b[0;32m   2023\u001b[0m \u001b[38;5;28;01mif\u001b[39;00m status \u001b[38;5;241m!=\u001b[39m \u001b[38;5;241m0\u001b[39m:\n\u001b[1;32m-> 2024\u001b[0m     \u001b[38;5;28;01mraise\u001b[39;00m InvocationException(\n\u001b[0;32m   2025\u001b[0m         \u001b[38;5;124m'\u001b[39m\u001b[38;5;124mProgram terminated with status: \u001b[39m\u001b[38;5;132;01m%d\u001b[39;00m\u001b[38;5;124m. stderr follows: \u001b[39m\u001b[38;5;132;01m%s\u001b[39;00m\u001b[38;5;124m'\u001b[39m \u001b[38;5;241m%\u001b[39m (\n\u001b[0;32m   2026\u001b[0m             status, stderr_output))\n\u001b[0;32m   2027\u001b[0m \u001b[38;5;28;01melif\u001b[39;00m stderr_output:\n\u001b[0;32m   2028\u001b[0m     \u001b[38;5;28mprint\u001b[39m(stderr_output)\n",
      "\u001b[1;31mInvocationException\u001b[0m: Program terminated with status: 1. stderr follows: Warning: Could not load \"C:\\Users\\Chaye\\anaconda3\\Library\\bin\\gvplugin_pango.dll\" - It was found, so perhaps one of its dependents was not.  Try ldd.\r\nWarning: Could not load \"C:\\Users\\Chaye\\anaconda3\\Library\\bin\\gvplugin_pango.dll\" - It was found, so perhaps one of its dependents was not.  Try ldd.\r\nFormat: \"pdf\" not recognized. Use one of: bmp canon cmap cmapx cmapx_np dot dot_json emf emfplus eps fig gd gd2 gif gv imap imap_np ismap jpe jpeg jpg json json0 metafile mp pdf pic plain plain-ext png pov ps ps2 svg svg_inline svgz tif tiff tk vrml webp xdot xdot1.2 xdot1.4 xdot_json\r\n"
     ]
    }
   ],
   "source": [
    "dot_data = tree.export_graphviz(dec_tree, feature_names=var_list, class_names=['long', 'medium', 'short'], rounded=True, filled=True)\n",
    "graph = graph_from_dot_data(dot_data)\n",
    "graph.write_pdf('tree.pdf')"
   ]
  },
  {
   "cell_type": "markdown",
   "id": "d11452fc-c2d5-451d-b5b2-47e0956076b5",
   "metadata": {},
   "source": [
    "# Test the Model"
   ]
  },
  {
   "cell_type": "code",
   "execution_count": null,
   "id": "dfeb3e08-f272-4cc0-a15d-5ea305be0bdc",
   "metadata": {
    "tags": []
   },
   "outputs": [],
   "source": [
    "y_test_hat = dec_tree.predict(X_test)\n",
    "print('test accuracy:', \"{:.2f}%\".format(accuracy_score(y_test, y_test_hat)*100))\n",
    "ConfusionMatrixDisplay.from_estimator(dec_tree, X_test, y_test, cmap=plt.cm.Reds)\n",
    "plt.show()"
   ]
  },
  {
   "cell_type": "code",
   "execution_count": null,
   "id": "882ed920-b99b-42a5-a592-f5f60d6b0d71",
   "metadata": {
    "tags": []
   },
   "outputs": [],
   "source": [
    "print(classification_report(y_test, y_test_hat))"
   ]
  },
  {
   "cell_type": "markdown",
   "id": "a59b1100-edaf-4bb9-9333-e54a513aa641",
   "metadata": {},
   "source": [
    "# Feature Importance"
   ]
  },
  {
   "cell_type": "code",
   "execution_count": null,
   "id": "adf56145-5e2a-4d50-a04f-2041c6e54240",
   "metadata": {
    "tags": []
   },
   "outputs": [],
   "source": [
    "df2 = pd.DataFrame({'Variable':var_list, 'Importance':dec_tree.feature_importances_}).sort_values(by=['Importance'], ascending=False)\n",
    "df2"
   ]
  },
  {
   "cell_type": "markdown",
   "id": "440cc761-0e0e-4e30-bac2-609ab9464cd4",
   "metadata": {},
   "source": [
    "# 6.2 Import Packages and Read the Data"
   ]
  },
  {
   "cell_type": "markdown",
   "id": "969fa050-506e-4f43-8b0c-8a8a7968fb6f",
   "metadata": {},
   "source": [
    "# Introduction to Regression Trees"
   ]
  },
  {
   "cell_type": "markdown",
   "id": "6119c9e9-95c3-4bc9-984c-6caf902639eb",
   "metadata": {},
   "source": [
    "# Regression Trees in Python"
   ]
  },
  {
   "cell_type": "markdown",
   "id": "ea9fea5e-0639-42e8-be0d-f2aef1ab432a",
   "metadata": {},
   "source": [
    "# **Modeling**"
   ]
  },
  {
   "cell_type": "code",
   "execution_count": null,
   "id": "95e2a25d-85a8-4eab-8022-6f217efb9f1e",
   "metadata": {
    "tags": []
   },
   "outputs": [],
   "source": [
    "var_list = ['available extra rooms in hospital', 'bed grade', 'visitors with patient', 'age',\n",
    "               'admission deposit', 'health score', 'hospital type code b', 'hospital type code c', 'hospital type code d',\n",
    "               'hospital type code e', 'hospital type code f', 'hospital type code g',\n",
    "               'hospital region code Y', 'hospital region code Z',\n",
    "               'department gynecology', 'department radiotherapy',\n",
    "               'department surgery', 'department tb chest disease', 'ward type Q',\n",
    "               'ward type R', 'ward type S', 'ward type T', 'ward type U',\n",
    "               'ward facility code B', 'ward facility code C', 'ward facility code D',\n",
    "               'ward facility code E', 'ward facility code F',\n",
    "               'type of admission trauma', 'type of admission urgent',\n",
    "               'severity of illness minor', 'severity of illness moderate']\n",
    "\n",
    "X = df1[var_list]\n",
    "y = df1['stay time']\n",
    "\n",
    "X_train, X_test, y_train, y_test = train_test_split(X, y, test_size=0.2)"
   ]
  },
  {
   "cell_type": "code",
   "execution_count": null,
   "id": "ec4be0bf-788f-4370-9f99-4b1dad05e393",
   "metadata": {
    "tags": []
   },
   "outputs": [],
   "source": [
    "# ways of pruning classification tree: dec_tree = tree.DecisionTreeClassifier(min_samples_split=5000, max_leaf_nodes=10, ccp_alpha=0.005) can be used to set restrictions on the splits of the data\n",
    "dec_tree = tree.DecisionTreeRegressor(max_leaf_nodes= 100, ccp_alpha=1)\n",
    "dec_tree.fit(X_train, y_train)\n",
    "\n",
    "# predict\n",
    "y_train_hat = dec_tree.predict(X_train)\n",
    "\n",
    "print('train r2:', \"{:.2f}%\".format(r2_score(y_train, y_train_hat)*100))\n",
    "print('train MSE:', \"{:.2f}%\".format(mean_squared_error(y_train, y_train_hat)*100))"
   ]
  },
  {
   "cell_type": "markdown",
   "id": "eb6f033f-1029-4e51-898c-fbeed64020be",
   "metadata": {},
   "source": [
    "- ## Visualize the Tree"
   ]
  },
  {
   "cell_type": "code",
   "execution_count": null,
   "id": "e935dc09-b50a-43ba-920e-72a203ada7dc",
   "metadata": {
    "tags": []
   },
   "outputs": [],
   "source": [
    "text_representation = tree.export_text(dec_tree, feature_names=var_list)\n",
    "print(text_representation)"
   ]
  },
  {
   "cell_type": "code",
   "execution_count": null,
   "id": "738738ba-6d83-4635-9e4a-8f659a46bbff",
   "metadata": {
    "tags": []
   },
   "outputs": [],
   "source": [
    "dot_data = tree.export_graphviz(dec_tree, feature_names=var_list, rounded=True, filled=True)\n",
    "graph = graph_from_dot_data(dot_data)\n",
    "graph.write_pdf('tree.pdf')"
   ]
  },
  {
   "cell_type": "markdown",
   "id": "963822da-ebd4-4a5b-833d-e193c59d1d37",
   "metadata": {},
   "source": [
    "# Test the Model"
   ]
  },
  {
   "cell_type": "code",
   "execution_count": null,
   "id": "4e1c7952-3271-44db-8ed1-7a2aa80ba6fb",
   "metadata": {
    "tags": []
   },
   "outputs": [],
   "source": [
    "y_test_hat = dec_tree.predict(X_test)\n",
    "\n",
    "print('test r2:', \"{:.2f}%\".format(r2_score(y_test, y_test_hat)*100))\n",
    "print('test MSE:', \"{:.2f}%\".format(mean_squared_error(y_test, y_test_hat)*100))"
   ]
  },
  {
   "cell_type": "markdown",
   "id": "45669fd5-dc6c-43ce-b4aa-b0895e2e33ad",
   "metadata": {},
   "source": [
    "# Feature Importance"
   ]
  },
  {
   "cell_type": "code",
   "execution_count": null,
   "id": "fd06c4af-eb97-4e69-8db6-326bfc8aacbb",
   "metadata": {
    "tags": []
   },
   "outputs": [],
   "source": [
    "df2 = pd.DataFrame({'Variable':var_list, 'Importance':dec_tree.feature_importances_}).sort_values(by=['Importance'], ascending=False)\n",
    "df2"
   ]
  }
 ],
 "metadata": {
  "kernelspec": {
   "display_name": "Python 3 (ipykernel)",
   "language": "python",
   "name": "python3"
  },
  "language_info": {
   "codemirror_mode": {
    "name": "ipython",
    "version": 3
   },
   "file_extension": ".py",
   "mimetype": "text/x-python",
   "name": "python",
   "nbconvert_exporter": "python",
   "pygments_lexer": "ipython3",
   "version": "3.10.14"
  }
 },
 "nbformat": 4,
 "nbformat_minor": 5
}
